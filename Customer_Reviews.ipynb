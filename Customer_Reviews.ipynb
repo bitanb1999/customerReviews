{
  "nbformat": 4,
  "nbformat_minor": 0,
  "metadata": {
    "kernelspec": {
      "display_name": "Python 3",
      "language": "python",
      "name": "python3"
    },
    "language_info": {
      "codemirror_mode": {
        "name": "ipython",
        "version": 3
      },
      "file_extension": ".py",
      "mimetype": "text/x-python",
      "name": "python",
      "nbconvert_exporter": "python",
      "pygments_lexer": "ipython3",
      "version": "3.7.6"
    },
    "colab": {
      "name": "Customer Reviews.ipynb",
      "provenance": [],
      "toc_visible": true,
      "include_colab_link": true
    }
  },
  "cells": [
    {
      "cell_type": "markdown",
      "metadata": {
        "id": "view-in-github",
        "colab_type": "text"
      },
      "source": [
        "<a href=\"https://colab.research.google.com/github/bitanb1999/customerReviews/blob/main/Customer_Reviews.ipynb\" target=\"_parent\"><img src=\"https://colab.research.google.com/assets/colab-badge.svg\" alt=\"Open In Colab\"/></a>"
      ]
    },
    {
      "cell_type": "markdown",
      "metadata": {
        "id": "A4MPymGnUclV"
      },
      "source": [
        "Sentiment Classifier\n",
        "\n",
        "---"
      ]
    },
    {
      "cell_type": "markdown",
      "metadata": {
        "id": "5Tg1mRCpUclZ"
      },
      "source": [
        "## Table of Contents \n",
        "  * [Part1: Building a Sentiment Classifier using Bag of Words (BOW)](###Part-1-Building-a-Sentiment-Classifier-using-Bag-of-Words-(BOW))\n",
        "    * [1.1 Loading and Splitting data](###1.1-Loading-and-Splitting-the-data)\n",
        "    * [1.2 Preprocessing](###1.2-Preprocessing)\n",
        "    * [1.3 Tokenization](###1.3-Tokenization)\n",
        "    * [1.4 Classification Model](###1.4-Classification-Model)\n",
        "    * [1.5 Prediction and Accuracy](###1.5-Prediction-and-Accuracy)\n",
        "    * [1.6 Confusion Matrix](###1.6-Confusion-Matrix)\n",
        "    * [1.7 Viewing and decoding predictions](###1.7-Viewing-and-decoding-predictions)"
      ]
    },
    {
      "cell_type": "code",
      "metadata": {
        "id": "c-MFxKbJUclm",
        "colab": {
          "base_uri": "https://localhost:8080/"
        },
        "outputId": "9291d66e-3362-4c15-9f19-1755bddd4c8a"
      },
      "source": [
        "# Install the gensim & nltk libraries if not already installed\n",
        "!pip install --upgrade pip\n",
        "!pip install gensim\n",
        "!pip install nltk"
      ],
      "execution_count": null,
      "outputs": [
        {
          "output_type": "stream",
          "text": [
            "Collecting pip\n",
            "\u001b[?25l  Downloading https://files.pythonhosted.org/packages/cd/82/04e9aaf603fdbaecb4323b9e723f13c92c245f6ab2902195c53987848c78/pip-21.1.2-py3-none-any.whl (1.5MB)\n",
            "\u001b[K     |████████████████████████████████| 1.6MB 6.9MB/s \n",
            "\u001b[?25hInstalling collected packages: pip\n",
            "  Found existing installation: pip 19.3.1\n",
            "    Uninstalling pip-19.3.1:\n",
            "      Successfully uninstalled pip-19.3.1\n",
            "Successfully installed pip-21.1.2\n",
            "Requirement already satisfied: gensim in /usr/local/lib/python3.7/dist-packages (3.6.0)\n",
            "Requirement already satisfied: smart-open>=1.2.1 in /usr/local/lib/python3.7/dist-packages (from gensim) (5.0.0)\n",
            "Requirement already satisfied: scipy>=0.18.1 in /usr/local/lib/python3.7/dist-packages (from gensim) (1.4.1)\n",
            "Requirement already satisfied: six>=1.5.0 in /usr/local/lib/python3.7/dist-packages (from gensim) (1.15.0)\n",
            "Requirement already satisfied: numpy>=1.11.3 in /usr/local/lib/python3.7/dist-packages (from gensim) (1.19.5)\n",
            "\u001b[33mWARNING: Running pip as root will break packages and permissions. You should install packages reliably by using venv: https://pip.pypa.io/warnings/venv\u001b[0m\n",
            "Requirement already satisfied: nltk in /usr/local/lib/python3.7/dist-packages (3.2.5)\n",
            "Requirement already satisfied: six in /usr/local/lib/python3.7/dist-packages (from nltk) (1.15.0)\n",
            "\u001b[33mWARNING: Running pip as root will break packages and permissions. You should install packages reliably by using venv: https://pip.pypa.io/warnings/venv\u001b[0m\n"
          ],
          "name": "stdout"
        }
      ]
    },
    {
      "cell_type": "code",
      "metadata": {
        "id": "W8_6Ztg0Uclo"
      },
      "source": [
        "\n",
        "import numpy as np\n",
        "import pandas as pd\n",
        "import gensim\n",
        "from keras.preprocessing import text\n",
        "from sklearn.feature_extraction.text import CountVectorizer\n",
        "from sklearn.linear_model import LogisticRegression\n",
        "from sklearn.metrics import accuracy_score\n",
        "from sklearn.metrics import confusion_matrix\n",
        "import seaborn as sns\n",
        "import matplotlib.pyplot as plt\n",
        "from matplotlib.colors import LogNorm\n",
        "%matplotlib inline\n",
        "from sklearn.model_selection import train_test_split\n",
        "\n",
        "import re\n",
        "from bs4 import BeautifulSoup\n",
        "\n",
        "import nltk"
      ],
      "execution_count": null,
      "outputs": []
    },
    {
      "cell_type": "markdown",
      "metadata": {
        "id": "ituC4X6gUclp"
      },
      "source": [
        "### Part 1 : Building a Sentiment Classifier using Bag of Words (BOW)\n",
        "\n",
        "In this part, we will build a **Logistic Regression** model using the **Bag of Words (BOW)** approach. In BOW, every text or document is represented as the bag(multiset) of its words where the frequency of occurrence of each word is used as a feature for training a classifier. Check this [wikipedia link](https://en.wikipedia.org/wiki/Bag-of-words_model#:~:text=The%20bag%2Dof%2Dwords%20model,word%20order%20but%20keeping%20multiplicity.) for more information.\n",
        "\n",
        "Load the IMDB dataset using the helper python script **imdb.py**. This has already been imported at the beginning."
      ]
    },
    {
      "cell_type": "markdown",
      "metadata": {
        "id": "Jd4y0J0CUclq"
      },
      "source": [
        "**1.1 Loading and Splitting data**\n",
        "\n",
        "Load the data-set and split into train and test. Print out the shape of your train and test features and labels. ('X_train','X_test','y_train','y_test')"
      ]
    },
    {
      "cell_type": "code",
      "metadata": {
        "id": "IxOS5_JtUclr",
        "colab": {
          "base_uri": "https://localhost:8080/",
          "height": 203
        },
        "outputId": "91ca16ca-09aa-4e9d-f0b8-16ff3e056f42"
      },
      "source": [
        "# load and split data\n",
        "df=pd.read_csv(\"/content/Data Analyst - Test Data - US.csv\")\n",
        "df.head()"
      ],
      "execution_count": null,
      "outputs": [
        {
          "output_type": "execute_result",
          "data": {
            "text/html": [
              "<div>\n",
              "<style scoped>\n",
              "    .dataframe tbody tr th:only-of-type {\n",
              "        vertical-align: middle;\n",
              "    }\n",
              "\n",
              "    .dataframe tbody tr th {\n",
              "        vertical-align: top;\n",
              "    }\n",
              "\n",
              "    .dataframe thead th {\n",
              "        text-align: right;\n",
              "    }\n",
              "</style>\n",
              "<table border=\"1\" class=\"dataframe\">\n",
              "  <thead>\n",
              "    <tr style=\"text-align: right;\">\n",
              "      <th></th>\n",
              "      <th>Review</th>\n",
              "      <th>date</th>\n",
              "      <th>Location</th>\n",
              "    </tr>\n",
              "  </thead>\n",
              "  <tbody>\n",
              "    <tr>\n",
              "      <th>0</th>\n",
              "      <td>I was very impressed with the resort.\\n Great ...</td>\n",
              "      <td>2019/08/20</td>\n",
              "      <td>Sebastian</td>\n",
              "    </tr>\n",
              "    <tr>\n",
              "      <th>1</th>\n",
              "      <td>The rooms were nice the outside needs work als...</td>\n",
              "      <td>2019/08/20</td>\n",
              "      <td>Los Angeles</td>\n",
              "    </tr>\n",
              "    <tr>\n",
              "      <th>2</th>\n",
              "      <td>Great location! I have stayed at this hotel on...</td>\n",
              "      <td>2019/08/20</td>\n",
              "      <td>Georgia</td>\n",
              "    </tr>\n",
              "    <tr>\n",
              "      <th>3</th>\n",
              "      <td>The hotel was adequate for my stay. The strips...</td>\n",
              "      <td>2019/08/20</td>\n",
              "      <td>NaN</td>\n",
              "    </tr>\n",
              "    <tr>\n",
              "      <th>4</th>\n",
              "      <td>Great location, room was large and spacious. P...</td>\n",
              "      <td>2019/08/19</td>\n",
              "      <td>Palm Harbor</td>\n",
              "    </tr>\n",
              "  </tbody>\n",
              "</table>\n",
              "</div>"
            ],
            "text/plain": [
              "                                              Review        date     Location\n",
              "0  I was very impressed with the resort.\\n Great ...  2019/08/20    Sebastian\n",
              "1  The rooms were nice the outside needs work als...  2019/08/20  Los Angeles\n",
              "2  Great location! I have stayed at this hotel on...  2019/08/20      Georgia\n",
              "3  The hotel was adequate for my stay. The strips...  2019/08/20          NaN\n",
              "4  Great location, room was large and spacious. P...  2019/08/19  Palm Harbor"
            ]
          },
          "metadata": {
            "tags": []
          },
          "execution_count": 5
        }
      ]
    },
    {
      "cell_type": "code",
      "metadata": {
        "id": "MokWzEm3xRfD"
      },
      "source": [
        "#helper function to view the table content details\n",
        "from IPython.display import display, HTML\n",
        "\n",
        "def pretty_print(df):\n",
        "    return display( HTML( df.to_html().replace(\"\\\\n\",\"<br>\") ) )\n",
        "def tbl_report(tbl, cols=None, card=52):\n",
        "    print(\"Table Shape\", tbl.shape)\n",
        "    dtypes = tbl.dtypes\n",
        "    nulls = []\n",
        "    uniques = []\n",
        "    numuniques = []\n",
        "    vcs = []\n",
        "    for col in dtypes.index:\n",
        "        n = tbl[col].isnull().sum()\n",
        "        nulls.append(n)\n",
        "        strdtcol = str(dtypes[col])\n",
        "        #if strdtcol == 'object' or strdtcol[0:3] == 'int' or strdtcol[0:3] == 'int':\n",
        "        #print(strdtcol)\n",
        "        uniqs = tbl[col].unique()\n",
        "        uniquenums = uniqs.shape[0]\n",
        "        if uniquenums < card: # low cardinality\n",
        "            valcounts = pd.value_counts(tbl[col], dropna=False)\n",
        "            vc = \"\\n\".join([\"{}:{}\".format(k,v) for k, v in valcounts.items()])\n",
        "        else:\n",
        "            vc='NA'\n",
        "        uniques.append(uniqs)\n",
        "        numuniques.append(uniquenums)\n",
        "        vcs.append(vc)\n",
        "    nullseries = pd.Series(nulls, index=dtypes.index)\n",
        "    uniqueseries = pd.Series(uniques, index=dtypes.index)\n",
        "    numuniqueseries = pd.Series(numuniques, index=dtypes.index)\n",
        "    vcseries = pd.Series(vcs, index=dtypes.index)\n",
        "    df = pd.concat([dtypes, nullseries, uniqueseries, numuniqueseries, vcseries], axis=1)\n",
        "    df.columns = ['dtype', 'nulls', 'uniques', 'num_uniques', 'value_counts']\n",
        "    if cols:\n",
        "        return pretty_print(df[cols])\n",
        "    return pretty_print(df)"
      ],
      "execution_count": null,
      "outputs": []
    },
    {
      "cell_type": "markdown",
      "metadata": {
        "id": "dJTMKvu3Ucls"
      },
      "source": [
        "**1.2 Preprocessing**\n",
        "\n",
        "Clean the reviews by completing the following function. Follow the instructions as mentioned in the comments. Call this function to obtain a list of cleaned train and test reviews.\n",
        "\n",
        "*Hint* - Use [**re.sub**](https://docs.python.org/3/library/re.html) to replace regular expressions or regex."
      ]
    },
    {
      "cell_type": "code",
      "metadata": {
        "colab": {
          "base_uri": "https://localhost:8080/",
          "height": 1000
        },
        "id": "4o5ViYqhx1WD",
        "outputId": "4cac3687-5d97-4ccd-d033-7d8a2a9f3ee0"
      },
      "source": [
        "tbl_report(df)"
      ],
      "execution_count": null,
      "outputs": [
        {
          "output_type": "stream",
          "text": [
            "Table Shape (6448, 3)\n"
          ],
          "name": "stdout"
        },
        {
          "output_type": "display_data",
          "data": {
            "text/html": [
              "<table border=\"1\" class=\"dataframe\">\n",
              "  <thead>\n",
              "    <tr style=\"text-align: right;\">\n",
              "      <th></th>\n",
              "      <th>dtype</th>\n",
              "      <th>nulls</th>\n",
              "      <th>uniques</th>\n",
              "      <th>num_uniques</th>\n",
              "      <th>value_counts</th>\n",
              "    </tr>\n",
              "  </thead>\n",
              "  <tbody>\n",
              "    <tr>\n",
              "      <th>Review</th>\n",
              "      <td>object</td>\n",
              "      <td>55</td>\n",
              "      <td>[I was very impressed with the resort.<br> Great staff at the main resort pool bar! We had a blast with them.<br> Clean, professional staff, great location and very reasonable!<br>  <br>  Read more<br>  Read less, The rooms were nice the outside needs work also no free breakfast it would have been nice overall it was ok<br>  <br>  Read more<br>  Read less, Great location! I have stayed at this hotel on my last three trips to New York.<br>  <br>  Read more<br>  Read less, The hotel was adequate for my stay. The strips in the bathtub were useless as I fell while taking a shower. I asked the front desk staff several times to get a bath mat but they never did. Management was unresponsive to my request which was very poor; someone should have gone to a dollar store and gotten a bath mat. Breakfast was good but it would have been nice to have had yogurt and/or cottage cheese on the buffet.<br>  <br>  Read more<br>  Read less, Great location, room was large and spacious. Parking was easy and we appreciated the friendly staff<br>  <br>  Read more<br>  Read less, All the options for fun were great! Do wish there were a better policy on the lazy river floats. Lots of people<br> Hoarding them.<br>  <br>  Read more<br>  Read less, Old. Musty. Motel. <br> Bath need an update asap<br> !!!!!!<br>  <br>  Read more<br>  Read less, Loved the layout of the hotel and the relaxing pool area.<br> Only con was housekeeping/maintenance staff passing the room with carts and speaking loudly on radios at 7-7:30 am.<br>  <br>  Read more<br>  Read less, My wife and I loved everything about it. It’s close to everything and everywhere. <br> We will be recommending to others and we will definitely be back.<br>  <br>  Read more<br>  Read less, rooms were very small, was told i had a complimentary upgrade to a empire state building view room but it was a regular room, everything else was ok.<br>  <br>  Read more<br>  Read less, Very clean and friendly and I love the location The restaurant that is inside was excellent for food and service the bathrooms are a little small because they’re vintage but overall I would definitely stay again<br>  <br>  Read more<br>  Read less, Nice and comfortable good position near the station and the subway<br>  <br>  Read more<br>  Read less, Location was great, lobby area was nice but room needs to be upgraded<br>  <br>  Read more<br>  Read less, Quiet and at a great location. <br> Good control at entrance to elevators.<br>  <br>  Read more<br>  Read less, El servicio super amables no todos en el buffet todos supur amablea creo que ellos marcan la diferencia hacen que tu mal momento en el lobby se olvide<br>  <br>  Read more<br>  Read less, Very nice and quiet and clean rooms. <br> We will return when back in the area.<br>  <br>  Read more<br>  Read less, Rooms were clean, updated, and beds were comfortable.<br>  <br>  Read more<br>  Read less, The staff was exceptionally helpful and the property wasclose to dining and shopping ad well as Dineyland. We had a bery restful stay there abd look forward to staying there in the future.<br>  <br>  Read more<br>  Read less, It was great for what we needed, a place to sleep. Parking was 20 a day, which isn’t too bad for that area. We were on the floor that the pool was located on, so there was a constant flow of loud people storming down the hallway. Poorly set up, since that is the only way to the pool. They probably put us there since we used a third party booking site.<br>  <br>  Read more<br>  Read less, rooms were clean. we had two room and were able to get it right across from each other. Location was very close to john wayne airport and only 12 mile from Disneyland!!! we were there in 15 mins in a car ride. shuttle servise to nearby restaurants were available and convenient, also to the airport.<br>  <br>  Read more<br>  Read less, A little off the beaten path, but ultimately places you at a reasonably central location (Buena Vista). Everything clean and functional, covered parking (garage with access). Roomy, good beds, friendly staff, tho didn't have time to sample amenities nor did we have any special requests or concerns.<br>  <br>  Read more<br>  Read less, The room is tiny. The building is old and worn on inside. Needs updating. The walls are thin. The bathroom needs updating. Flooring is worn and ripping. Staff wasn’t the friendliest. Plan on walking 25 minutes to time square. Security was the only good thing with this hotel. Be prepared they add on fees if you purchase through Expedia. They call it resort fees. Why, I have no idea. It’s not a resort.<br>  <br>  Read more<br>  Read less, Awesome location, easy access to sights and subway.<br>  <br>  Read more<br>  Read less, 基本的に問題なしでした。<br> 清潔で防音も普通な方で、水回りも清潔でシャワーの水圧も問題なしです。<br> ただ、歯ブラシやスリッパ、バスローブなどはありません。<br> シャンプー、石鹸、ズボンプレッサー、冷蔵庫などはありました。<br>  <br>  Read more<br>  Read less, The room did not seem clean. There was some sort of orange sticky glop on the bathroom counter. And the travel size lotion they provided was already empty. I liked that you could text the valet and they had your car waiting.<br>  <br>  Read more<br>  Read less, Great location and friendly staff. Room with enough space.<br>  <br>  Read more<br>  Read less, Real nice love to go back soon <br> I will recommend family and friends<br>  <br>  Read more<br>  Read less, Beautiful hotel. Friendly, helpful staff. Walking distance to light rail. Uneasy about homeless encampment in the empty lot behind the hotel on the way to the light rail.<br>  <br>  Read more<br>  Read less, Beautiful Art Deco building, Foyer is very ornate and stylish<br>  <br>  Read more<br>  Read less, En general excelente. Fantástica situación<br> Dos pegas importantes para mí:<br> 25 dolares por guardar mis maletas 3 horas en la salida<br> No habia nevera ni calentador de agua en la habitación, los solicite y me. ofrecieron ponerlos con cargo.<br>  <br>  Read more<br>  Read less, Really close to job interview. Nice morning breakfast at location across the street that has some affiliation with the hotel. Nice guests!<br>  <br>  Read more<br>  Read less, Les chambres familiales sont pratiques (nous étions 7 et c'est agréable d'être tous ensemble). Cependant, le personnel est exécrable ! L'individu à l’accueil s'est permis de dire à mon mari qu'il était \"trop lent\" lors de l'enregistrement ... c'est inacceptable ! De plus, la climatisation est extrêmement bruyante, plusieurs d'entre nous ont eu beaucoup de difficulté à dormir.<br>  <br>  Read more<br>  Read less, Rooms very dirty and aged. Breakfast was of poor quality and limited choices<br>  <br>  Read more<br>  Read less, nan, I have stayed for 5 nights, Great service, affordable price.<br>  <br>  Read more<br>  Read less, The staff is excellent here. This is always my first choice when I look to stay in Orlando. Have stayed here every year for the past 8 years. It is perfectly situated on International Dr. The grounds are beautiful and I always feel safe. I would rate this property 10 out of 10.<br> Jennifer on the front desk was very friendly and helpful. <br> I will be back next year.<br>  <br>  Read more<br>  Read less, It was fine<br> Sink needed to be wiped down. Stains on comforter<br>  <br>  Read more<br>  Read less, Was a great place, the room had ants but that comes with outside doors. lobby service was great though<br>  <br>  Read more<br>  Read less, Enjoyed our stay! Staff was welcoming and friendly. Chose this location for a weekend with my friends. When booking this room I requested a rollaway bed. When I called the front desk about the extra bed I requested, it was explained to me since we have two beds they could not accommodate us with a rollaway. Why give that an option during booking but not available during the stay? Overall it was a nice experience. <br>  <br>  Read more<br>  Read less, Well kept up, but where was my complimentary breakfast ??????<br>  <br>  Read more<br>  Read less, Location was around the transportation system .near main attraction within the city .Good friendly staff. Will visit again.clean rooms<br>  <br>  Read more<br>  Read less, propreté impeccable. chambre refaite tous les jours.<br>  <br>  Read more<br>  Read less, Good value. We enjoyed our 4 day stay. Bicely appointed room.<br>  <br>  Read more<br>  Read less, The rooms was clean and i love they make breakfast sandwiches 2 for 6.00...<br>  <br>  Read more<br>  Read less, Sent my parents on an anniversary trip, They wanted to stay local but wanted to get away from the heat in Riverside so they stayed here for two days. They said the property was secluded, clean and they felt safe in this area. The hotel itself was clean, comfortable and they had a nice view. The staff were friendly and found their reservation with no issues. ONLY downside is that they had to pay $20 per day for parking. The parking was private and they didn't worry about their car being broken into so that was a plus but it was an extra cost we didn't expect. Great location for site seeing.<br>  <br>  Read more<br>  Read less, Beautiful. Clean. Friendly staff. Variety of activities for adults &amp; children. Would definitely choose to stay here again.<br>  <br>  Read more<br>  Read less, This property is advertised as being renovated. Only four floors are renovated and a renovation means basically new bedding. There were stains on the ceiling, a leaking shower, toilet that didn't work, peeling paint and an unpleasant manager when we asked to change our room. He seemed to think a non-working toilet wasn't an issue. I would not recommend nor ever stay in this property again. It was very disappointing.<br>  <br>  Read more<br>  Read less, Vétuste mérite un sacré rafraîchissement <br> Emplacement idéal<br>  <br>  Read more<br>  Read less, Loved the price, location to the parks and the shuttle.<br>  <br>  Read more<br>  Read less, El aire acondicionado goteaba y la alfombra estaba empapada y con humedad<br>  <br>  Read more<br>  Read less, L’unica cosa accettabile è stata la cortesia ricevuta al check out. Tutto il resto da cancellare. Camera vecchia, male insonorizzata mobili vecchi e maltenuti, illuminazione fatta malissimo e, nonostante tutto abbiamo faticato a farcela assegnare. La prima camera che abbiamo ricevuto è al piano della strada con i parcheggi a 50 metri, questa camera è maleodorante di con mobili vecchi e scrostati. Guardate attentamente le condizioni perché compaiono 25$/giorno per i servizi che dicono di offrire come ad esempio la navetta per i parchi ma non è così. Le navette non servono i parchi degli Universal Studios e non servono l’aeroporto quindi l’unico modo per spostarsi è il taxi peraltro abbastanza costoso. Una mattina si sono inventati un aumento di $ 11 + tasse e mancia al 18% a persona a perché ospitavano alcuni osceni personaggi Disney !!! Eravamo stati in questo hotel 18 anni fa, ora non ci mai più<br>  <br>  Read more<br>  Read less, I liked that the staff was very nice and the place is very clean. I will be going back there very soon. The pool was very clean and you can go to other pools in the resort. Only minutes away from Magic Kingdom.<br>  <br>  Read more<br>  Read less, Great price and lots to do. Clean,hospitality was great. Convenient to all the parks.<br>  <br>  Read more<br>  Read less, Very smooth stay. We'll surely coming back to this hotel. Highly recommended<br>  <br>  Read more<br>  Read less, Excellent location, and great service.i highly recommended New Yorker Hotel at winham<br>  <br>  Read more<br>  Read less, comodo per la posizione ma hotel fatiscente, camera e bagno troppo piccoli e la quarta stella gliel hanno regalata!<br>  <br>  Read more<br>  Read less, The rooms are terribly small, almost claustrophobic.<br> Ice machine was hard to find.<br> And attitude at the front desks<br>  <br>  Read more<br>  Read less, They made us pay for gym facilities we didn’t use. It should be an optional fee. I came to see New York not to work out.<br>  <br>  Read more<br>  Read less, Does well what you expect it to. Comfy bed. Clean modern bathroom. Reasonably well sound-insulated rooms. Very good value at a great outer borough location. Unexpectedly nice shops and restaurants within walking distance.<br>  <br>  Read more<br>  Read less, I stayed here for 2 nights. This place is walk-able to Disneyland and very convenient. It has underground gated car parking. Staff was very courteous.<br>  <br>  Read more<br>  Read less, Friendly staff, clean property, secure parking, easy freeway access,!<br>  <br>  Read more<br>  Read less, Todo excelente, muy buenas instalaciones y excelente servico<br>  <br>  Read more<br>  Read less, I like everything in the hotel the personal very good services<br>  <br>  Read more<br>  Read less, I liked everything except the smoking by the pools ruined outdoor relaxation. Smelled very bad by the pools.<br>  <br>  Read more<br>  Read less, I love how there are alot of pools but in terms of choices for restaurants being it the grand hotel was very limited. The good quality was alright for the high prices we paid. Nothing extravagant.<br>  <br>  Read more<br>  Read less, The pool was nice but the staff was rude and we could not get our room clean<br>  <br>  Read more<br>  Read less, Pool was super dirty &amp; Jacuzzi water was a bit yellowish color. Room was clean but carpet was super dirty! Carpets needs to be deep clean... So wear socks! Rooms also tends to get stuffy quick! Worst of all the assistant I had was horrible at service. She was rude and unattentive. Felt rushed and she didn't try to give us any information at all about the hotel except where our room is at. They only accept strictly Debit cards and some major credit cards only with a $50-100 dollars deposit depending on if you have kids or not with you. If only the attendant that helped me was more friendly I wouldn't mind so much all the other flaws... But in all honesty I didn't even get a smile from her and I booked 4 rooms. But I'm not saying all employees are like that but I can say I never gotten any kind of acknowledgement from any of the employees who works there. No one greets.<br>  <br>  Read more<br>  Read less, It was a good experience overall. Complementary shuttle service helps a lot especially because airport is nearby<br>  <br>  Read more<br>  Read less, Everything here is really great - the staff , the rooms - the safety and quietness, the cleanliness of the rooms and lobby. I adore this hotel and hope to return soon. This is really a 10 star hotel in my book!<br>  <br>  Read more<br>  Read less, Everything was great. Hello, just staying in the heart of New York was fantastic!<br>  <br>  Read more<br>  Read less, cleanliness at hotel was very good in rooms and all public areas<br>  <br>  Read more<br>  Read less, Lobby looks amazing! Parking is not included with your booking, so you have to pay to park on a place that you are actually visiting and staying the night. I booked a 2 double bed room and my room had 2 full beds instead. The facility was clean, outdoors, gardens, pool were very clean, but the room didn't match the rest of the hotel. I was definitely expecting more. I won't be staying at this hotel again. You get more for less on other hotels around the area.<br>  <br>  Read more<br>  Read less, Everything was great. When we walked into the lobby, it smelled very nice.<br>  <br>  Read more<br>  Read less, There was no complementary breakfast but it was close to everything and Disney Springs was remarkable<br>  <br>  Read more<br>  Read less, Rooms are small. Rooms with king sized bed - one side of bed is up against the wall and there is barely enough room to walk between the end of the bed and the desk/television on the opposite wall. Rooms with double beds offer a little more room, but it is still cramped. However, rooms are clean with natural light from floor to ceiling windows.<br>  <br>  Read more<br>  Read less, A very well managed property beating big five star hotels in every aspects including staff friendliness, cleanness, convenience (free self parking!! in Anaheim), close distance to convention center and Disney parks.<br>  <br>  Read more<br>  Read less, Very courteous, and the rooms were very nice. The only issue was that in the business center they time the computers out at 15 minutes per session. That should be more like 30 minutes.<br>  <br>  Read more<br>  Read less, Great location. Two pools were nice. Staff was friendly.<br>  <br>  Read more<br>  Read less, This place is a reasonable food dessert. Breakfast and lunch are $30 each and supper is $60. I noticed several parents waiting for pizza delivery. They charge for parking, so people are stuck there. The first night, I ate beef jerky and nuts from the gift shop. <br> There were stinky fruits all over the pool areas. They just tried to blow them under the bushes. STINKY!<br> I needed my safe opened, and it took a long time to get them to do it. Most of the room was clean except mold in the shower. It rained a lot and there were NO inside activities. How about yoga or Zumba in the rainy season? I definitely Won't be back.<br>  <br>  Read more<br>  Read less, An old building seem like its used to an office building, very small room the ugly shower area super over priced!? With lots of hidden fees like just for extra 2 hours late checkout they charge $50.00 easily they can double your rate, the slow elevator we change our hotel to residences inn in Manhattan compared to the New Yorker it was not 5 star but also 6 star ⭐️ stay away from the New Yorker !<br>  <br>  Read more<br>  Read less, Super convenient location! Right next to Penn Station<br>  <br>  Read more<br>  Read less, Reasonable price hotel. Tiny room is OK considering it's location, a few minutes to Penn station and walk distance to Broadway theaters. Fitness facilities were better than expected.<br> Hotel staff were not friendly, lobby staff especially.<br>  <br>  Read more<br>  Read less, Art Deco beauty, perfect location, helpful and friendly staff<br>  <br>  Read more<br>  Read less, The location is excellent. The hotel staff is friendly and helpful. Although the hotel is older it is well kept. The only thing is the water changes temperature when showering and elevators take a while to come down. It is understandable though being that it is a busy hotel.<br>  <br>  Read more<br>  Read less, nos encanto tanto el trato recibido en la recepcion como la ayuda del SR. SEBASTIAN,super amable y eficiente. Muchisimas gracias<br>  <br>  Read more<br>  Read less, The entire staff was so friendly and helpful, and the location was perfect!<br>  <br>  Read more<br>  Read less, Didn’t like being charged for parking and resort fee<br>  <br>  Read more<br>  Read less, Camera non disponibile e sporca. Lunghissime code alla reception.<br>  <br>  Read more<br>  Read less, Overall good deal and not a bad area...no pool though :/ work out room was too warm and no towels in there. And the breakfast was mediocre. Not enough options.<br>  <br>  Read more<br>  Read less, The front desk staff, and manager, were super friendly and accommodating. Our room wasn’t ready yet (after the 3pm check-in time), so we were upgraded to a King Suite at no extra charge. The hotel is within walking distance to Disneyland/DCA. The room was very nice (clean and well-kept): newer furnishings and linens, no stains in the carpets, the A/C was excellent, etc. We would gladly stay here again!<br>  <br>  Read more<br>  Read less, Loved the swimming pools. Good location for SeaWorld and entertainment.<br> <br>  <br>  Read more<br>  Read less, Ok place. <br> The room was decent . The location was great<br>  <br>  Read more<br>  Read less, This is a pleasant hotel, I was a little disappointed that I had to go to the restaurant and order take out for pool side dining. Not a bad thing but I did not expect that - I had to order the food, then go back 10 mins later. When I good a hotel with a pool and restaurant in the photos I do expect that little bit of service.<br> They also charged $100 incidental charge. Was not expected it to be deducted and then have to wait 3 - 5 days for it to be returned to my account. Not cool!<br>  <br>  Read more<br>  Read less, Checked in at night. Light switch not easy to find. Multiple lights not working in room.<br>  <br>  Read more<br>  Read less, Old property but good service and clean at all moments<br>  <br>  Read more<br>  Read less, Super. Todo cerca, buen servicio, buena comida. Recomendado<br>  <br>  Read more<br>  Read less, Shower appears to have mold on ceiling, wallpapering is peeling off wall. Sheets were stained. I can show pictures of wallpaper and mold problems if required. For the price i would expect cleaner facilities.<br>  <br>  Read more<br>  Read less, The hotel set as 4.5* yet the service is low 1 man in the loby room, suits ledt without monitoring, <br> Room service was poor <br> The hotel is old and maintained poorly<br>  <br>  Read more<br>  Read less, Simplemente espectacular en todo sentido y momento<br>  <br>  Read more<br>  Read less, All good i feel at home on this place even we walk lil bit far but all are good<br>  <br>  Read more<br>  Read less, ...]</td>\n",
              "      <td>6385</td>\n",
              "      <td>NA</td>\n",
              "    </tr>\n",
              "    <tr>\n",
              "      <th>date</th>\n",
              "      <td>object</td>\n",
              "      <td>0</td>\n",
              "      <td>[2019/08/20, 2019/08/19, 2019/08/18, 2019/08/17, 2019/08/16, 2019/08/15, 2019/08/14, 2019/08/13, 2019/08/12, 2019/08/11, 2019/08/10, 2019/08/09, 2019/08/08, 2019/08/07, 2019/08/06, 2019/08/05, 2019/08/04, 2019/08/03, 2019/08/02, 2019/08/01, 2019/07/31, 2019/07/30, 2019/07/29, 2019/07/28, 2019/07/27, 2019/07/26, 2019/07/25, 2019/07/24, 2019/07/23, 2019/07/22, 2019/07/21, 2019/07/20, 2019/07/19, 2019/07/18, 2019/07/17, 2019/07/16, 2019/07/15, 2019/07/14, 2019/07/13, 2019/07/12, 2019/07/11, 2019/07/10, 2019/07/09, 2019/07/08, 2019/07/07, 2019/07/06, 2019/07/05, 2019/07/04, 2019/07/03, 2019/07/02, 2019/07/01, 2019/06/30, 2019/06/29, 2019/06/28, 2019/06/27, 2019/06/26, 2019/06/25, 2019/06/24, 2019/06/23, 2019/06/22, 2019/06/21, 2019/06/20, 2019/06/19, 2019/06/18, 2019/06/17, 2019/06/16, 2019/06/15, 2019/06/14, 2019/06/13, 2019/06/12, 2019/06/11, 2019/06/10, 2019/06/09, 2019/06/08, 2019/06/07, 2019/06/06, 2019/06/05, 2019/06/04, 2019/06/03, 2019/06/02, 2019/06/01, 2019/05/31, 2019/05/30, 2019/05/29, 2019/05/28, 2019/05/27, 2019/05/26, 2019/05/25, 2019/05/24, 2019/05/23, 2019/05/22, 2019/05/21, 2019/05/20, 2019/05/19, 2019/05/18, 2019/05/17, 2019/05/16, 2019/05/15, 2019/05/14, 2019/05/13, ...]</td>\n",
              "      <td>403</td>\n",
              "      <td>NA</td>\n",
              "    </tr>\n",
              "    <tr>\n",
              "      <th>Location</th>\n",
              "      <td>object</td>\n",
              "      <td>4737</td>\n",
              "      <td>[Sebastian, Los Angeles, Georgia, nan, Palm Harbor, California, Redding, Jacksonville, España, Montréal, Grand Cayman, Cayman Islands, La quinta, Seattle, savasse France, Riverside, Champaign, IL, Pennsylvania, Toulon, Lake Buena Vista - Orlando, Australia, Las Vegas, México, Miami, San Antonio,TX, Bayonne nj, Corinth, New Jersey, Venice, Chicago, High Springs, FL, Tokyo, Mooresville NC, Apollo Beach, Fresno, CA, Pittsburgh, Santa Cruz., Puerto Rico, New York, Panama City, Ft. Lauderdale, Shreveport, Oak Grove, WPB, Sydney Australia, Cape Coral, Toronto, Ottawa Ont, Weeki Wachee Fl., St. Pete, Los Banos, North Carolina, Japan, Irvine, CA, Illinois, Texas, Sebastian, FL, Palm Island, Florida, Vancouver, Columbia, SC, Savannah, GA, Galt, Brick, Wichita KS, New York, NY, Lake Buena Vista, Chicago, IL, Seattle WA, South bend Indiana, Daytona, charlotte, Saint John, NB Canada, Pernambuco, Brasil, Michigan, San Francisco, Midland TX, Washington, DC, Washington, Oregon, Fontana,ca, Guadalajara, Maryland, Princeton, Vinton, VA 24179, Springfield, MA, New Bedford, MA, Sparks nv, West Palm Beach, Rockland, MA, Ann Arbor, Oshawa, on, Carlsbad, Santa Ana Ca., Rotterdam, Leeds UK, Fresh Meadows, Ocala, Burlington ON Canada, Porirua, NZ, Northboro, Henderson, NV, ...]</td>\n",
              "      <td>1083</td>\n",
              "      <td>NA</td>\n",
              "    </tr>\n",
              "  </tbody>\n",
              "</table>"
            ],
            "text/plain": [
              "<IPython.core.display.HTML object>"
            ]
          },
          "metadata": {
            "tags": []
          }
        }
      ]
    },
    {
      "cell_type": "code",
      "metadata": {
        "id": "yhx9ahlcyAvg"
      },
      "source": [
        "df.dropna(axis=0,how='any',inplace=True)"
      ],
      "execution_count": null,
      "outputs": []
    },
    {
      "cell_type": "code",
      "metadata": {
        "id": "OGFpTDFWUclt"
      },
      "source": [
        "# function to perform stemming\n",
        "\n",
        "def stemming(text):\n",
        "    \n",
        "    # stems each word in the review to it's root word\n",
        "    stemmer = nltk.porter.PorterStemmer()\n",
        "    text = ' '.join([stemmer.stem(word) for word in text.split()])\n",
        "    return text"
      ],
      "execution_count": null,
      "outputs": []
    },
    {
      "cell_type": "code",
      "metadata": {
        "id": "oBjCUsDMUclt"
      },
      "source": [
        "def preprocess_review(text):\n",
        "    \n",
        "    \"\"\"\n",
        "    Function\n",
        "    --------\n",
        "    preprocess_review\n",
        "\n",
        "    Inputs\n",
        "    ------\n",
        "    text: the review which need to be pre-processed\n",
        "\n",
        "    Returns\n",
        "    -------\n",
        "    clean_review: the pre-processed review obtained after performing the below instructions in the Notes\n",
        "\n",
        "    Notes\n",
        "    -----\n",
        "    \n",
        "    1. Remove html tags from the text\n",
        "    2. Change all reviews to lowercase\n",
        "    3. Remove special characters - remove everything that is not a letter or a space (use re.sub to replace regex pattern by single \n",
        "       space. The regex pattern for removal of special characters is '[^a-z\\s]+')\n",
        "    4. Remove extra(multiple) spaces (use re.sub to replace regex pattern by single space. The regex pattern for removal of multiple \n",
        "       spaces is '\\s+')\n",
        "    5. Perform stemming, which converts(stems) the word to its base form (for eg: running, runs to run)\n",
        "    \"\"\"\n",
        "    \n",
        "    \n",
        "    clean_review = BeautifulSoup(text).get_text()\n",
        "    clean_review = clean_review.lower()\n",
        "    clean_review =re.sub(('[^a-z\\s]+'),\" \",clean_review)\n",
        "    clean_review =re.sub(('\\s+'),\" \",clean_review)\n",
        "    stemming_review = stemming(clean_review)\n",
        "    #print(stemming_review)\n",
        "    return stemming_review\n",
        "    \n",
        "    "
      ],
      "execution_count": null,
      "outputs": []
    },
    {
      "cell_type": "code",
      "metadata": {
        "id": "Pa3J2uiZUclu",
        "colab": {
          "base_uri": "https://localhost:8080/"
        },
        "outputId": "55388677-eae8-46ea-ea68-a92eaa6afde5"
      },
      "source": [
        "# Calling the preprocess_review function to obtain list of the cleaned reviews\n",
        "\n",
        "X = [preprocess_review(review) for review in df['Review']]\n",
        "print('data cleaned')\n"
      ],
      "execution_count": null,
      "outputs": [
        {
          "output_type": "stream",
          "text": [
            "data cleaned\n"
          ],
          "name": "stdout"
        }
      ]
    },
    {
      "cell_type": "markdown",
      "metadata": {
        "id": "zEotp3T3Uclv"
      },
      "source": [
        "Let's check out an example of how a cleaned text looks like"
      ]
    },
    {
      "cell_type": "code",
      "metadata": {
        "id": "sTO4L3IeUclw",
        "colab": {
          "base_uri": "https://localhost:8080/"
        },
        "outputId": "96bf0977-9bfd-4d22-b3c5-ecdaf17dcb17"
      },
      "source": [
        "print(X[5])"
      ],
      "execution_count": null,
      "outputs": [
        {
          "output_type": "stream",
          "text": [
            "veri nice and quiet and clean room we will return when back in the area read more read less\n"
          ],
          "name": "stdout"
        }
      ]
    },
    {
      "cell_type": "markdown",
      "metadata": {
        "id": "-lQXUspZUclx"
      },
      "source": [
        "**1.3 Tokenization**\n",
        "\n",
        "Encoded the cleaned reviews into integers which can be used by as features in our classification model. This is also called as **tokenization**. We will use the [CountVectorizer](https://scikit-learn.org/stable/modules/generated/sklearn.feature_extraction.text.CountVectorizer.html) method from the *sklearn* library with a maximum vocabulary size of 1000 and remove stopwords. *Stopwords* are commonly occuring words in English - like *and,i,for,us,the etc*"
      ]
    },
    {
      "cell_type": "code",
      "metadata": {
        "id": "fmIhbt87Ucly"
      },
      "source": [
        "tokenizer = CountVectorizer(max_features = 1000, stop_words = 'english')"
      ],
      "execution_count": null,
      "outputs": []
    },
    {
      "cell_type": "markdown",
      "metadata": {
        "id": "kwxD33HkUcly"
      },
      "source": [
        "Let's fit the tokenizer to our cleaned training set and store the train & test tokenized data to these variables respectively: **X_train_tokenized** and **X_test_tokenized**"
      ]
    },
    {
      "cell_type": "code",
      "metadata": {
        "id": "3dTGu6AsUclz"
      },
      "source": [
        "# tokenizing the words in X\n",
        "tokenizer.fit(X)\n",
        "X_train_tokenized = tokenizer.transform(X)\n",
        "\n"
      ],
      "execution_count": null,
      "outputs": []
    },
    {
      "cell_type": "code",
      "metadata": {
        "id": "u8OqjZBrUclz",
        "colab": {
          "base_uri": "https://localhost:8080/"
        },
        "outputId": "b1e4afff-4ed3-4391-f17f-f9b1a30115ac"
      },
      "source": [
        "# shape of the tokenized features for train data\n",
        "print(X_train_tokenized.shape)"
      ],
      "execution_count": null,
      "outputs": [
        {
          "output_type": "stream",
          "text": [
            "(1705, 1000)\n"
          ],
          "name": "stdout"
        }
      ]
    },
    {
      "cell_type": "markdown",
      "metadata": {
        "id": "6HnymjipUcl1"
      },
      "source": [
        "*Removing the stop words is important as we have limited features to use for our model and these stop words if also considered might make us lose out on important keywords*\n"
      ]
    },
    {
      "cell_type": "markdown",
      "metadata": {
        "id": "bR74X2-RUcl2"
      },
      "source": [
        "# *The stemming should have been done after tokenizing the data as stemming in the pre processing phase already removes some stuff which could have been useful to understand the reviews.*\n"
      ]
    },
    {
      "cell_type": "markdown",
      "metadata": {
        "id": "rGMpUkkpUcl2"
      },
      "source": [
        "Printing out the top 10 most occuring words in the training set along with their frequency. Note that `tokenizer.vocabulary_` will only give you the index of the word in the vocab; not the count itself"
      ]
    },
    {
      "cell_type": "code",
      "metadata": {
        "id": "1obMd_xKUcl3",
        "colab": {
          "base_uri": "https://localhost:8080/"
        },
        "outputId": "9633917f-f756-49ad-f4db-8ac8c00445c6"
      },
      "source": [
        "\n",
        "\n",
        "tokenized_sum = X_train_tokenized.sum(axis = 0)\n",
        "\n",
        "count_list = []\n",
        "for word,index in tokenizer.vocabulary_.items():\n",
        "    count_list.append((word,tokenized_sum[0,index]))\n",
        "\n",
        "sorted_countlist = sorted(count_list,key= lambda x: x[1],reverse= True)\n",
        "print(sorted_countlist)"
      ],
      "execution_count": null,
      "outputs": [
        {
          "output_type": "stream",
          "text": [
            "[('read', 3055), ('wa', 1873), ('room', 1268), ('hotel', 802), ('veri', 659), ('staff', 566), ('stay', 497), ('clean', 449), ('locat', 447), ('great', 433), ('nice', 385), ('thi', 372), ('park', 292), ('check', 280), ('bed', 261), ('time', 258), ('friendli', 241), ('good', 234), ('pool', 232), ('properti', 215), ('like', 214), ('night', 197), ('help', 192), ('walk', 188), ('servic', 185), ('day', 183), ('desk', 174), ('close', 162), ('onli', 160), ('need', 155), ('love', 150), ('disney', 147), ('area', 146), ('didn', 146), ('small', 145), ('just', 137), ('bathroom', 135), ('restaur', 134), ('comfort', 133), ('realli', 130), ('work', 122), ('breakfast', 117), ('did', 117), ('everyth', 117), ('place', 116), ('price', 111), ('lobbi', 110), ('new', 106), ('charg', 103), ('old', 102), ('look', 99), ('door', 99), ('floor', 97), ('shower', 97), ('resort', 96), ('lot', 96), ('definit', 95), ('got', 93), ('littl', 92), ('beauti', 92), ('excel', 90), ('use', 87), ('fee', 85), ('ask', 84), ('conveni', 84), ('peopl', 80), ('hour', 80), ('food', 79), ('view', 77), ('dirti', 75), ('la', 73), ('station', 73), ('water', 73), ('becaus', 71), ('coffe', 71), ('book', 70), ('wasn', 70), ('squar', 69), ('airport', 69), ('enjoy', 68), ('super', 68), ('thing', 68), ('overal', 67), ('free', 66), ('bar', 65), ('spring', 65), ('recommend', 64), ('build', 64), ('minut', 63), ('make', 63), ('shuttl', 63), ('easi', 62), ('famili', 62), ('smell', 61), ('distanc', 61), ('wait', 60), ('en', 59), ('issu', 59), ('arriv', 59), ('wyndham', 59), ('told', 58), ('pay', 57), ('ha', 57), ('howev', 57), ('experi', 56), ('took', 56), ('went', 56), ('everi', 56), ('elev', 56), ('expect', 55), ('facil', 55), ('bit', 55), ('morn', 55), ('kid', 55), ('garden', 55), ('right', 54), ('ani', 54), ('air', 54), ('feel', 54), ('said', 53), ('come', 53), ('pm', 53), ('extrem', 53), ('sleep', 53), ('hot', 53), ('access', 52), ('alway', 52), ('ok', 51), ('extra', 51), ('accommod', 51), ('open', 51), ('towel', 51), ('abl', 49), ('disappoint', 49), ('person', 49), ('late', 49), ('outsid', 48), ('tri', 48), ('better', 48), ('pleasant', 48), ('anoth', 48), ('want', 47), ('amaz', 47), ('best', 47), ('quiet', 46), ('penn', 46), ('date', 46), ('guest', 46), ('return', 45), ('perfect', 45), ('way', 45), ('don', 45), ('wall', 45), ('noth', 44), ('wonder', 43), ('visit', 43), ('befor', 43), ('amen', 43), ('manag', 42), ('earli', 42), ('offer', 42), ('long', 41), ('given', 41), ('problem', 40), ('big', 40), ('street', 40), ('tub', 40), ('second', 40), ('nois', 40), ('end', 39), ('near', 39), ('york', 38), ('avail', 38), ('away', 38), ('phone', 38), ('custom', 38), ('key', 38), ('subway', 38), ('year', 38), ('expens', 38), ('trip', 37), ('size', 37), ('option', 37), ('felt', 37), ('bad', 37), ('carpet', 37), ('hallway', 37), ('valet', 36), ('da', 36), ('shop', 36), ('mani', 36), ('expedia', 36), ('state', 36), ('loud', 36), ('reason', 35), ('especi', 35), ('left', 35), ('housekeep', 35), ('travel', 34), ('welcom', 34), ('dure', 34), ('chang', 34), ('yorker', 34), ('updat', 34), ('condit', 34), ('motel', 34), ('busi', 34), ('reserv', 33), ('came', 33), ('paid', 33), ('thank', 33), ('sure', 33), ('hard', 33), ('insid', 32), ('car', 32), ('lo', 32), ('pictur', 32), ('awesom', 32), ('thought', 32), ('empir', 32), ('el', 32), ('spaciou', 31), ('broken', 31), ('disneyland', 31), ('gave', 31), ('rude', 31), ('bu', 31), ('nyc', 31), ('window', 31), ('sinc', 30), ('stain', 30), ('sever', 30), ('readi', 30), ('madison', 30), ('die', 30), ('kept', 29), ('king', 29), ('valu', 29), ('includ', 29), ('differ', 29), ('queen', 29), ('run', 29), ('provid', 28), ('bag', 28), ('comfi', 28), ('profession', 27), ('le', 27), ('renov', 27), ('suit', 27), ('min', 27), ('fridg', 27), ('store', 27), ('actual', 27), ('ground', 27), ('let', 27), ('happi', 27), ('couldn', 27), ('th', 27), ('money', 27), ('cold', 27), ('pretti', 27), ('hear', 27), ('und', 27), ('larg', 26), ('cost', 26), ('muy', 26), ('upgrad', 26), ('wouldn', 26), ('inform', 26), ('central', 26), ('pleas', 26), ('block', 26), ('quit', 26), ('decent', 26), ('ve', 26), ('ist', 26), ('decor', 26), ('diner', 25), ('terribl', 25), ('toilet', 24), ('microwav', 24), ('someon', 24), ('drink', 24), ('rate', 24), ('courteou', 24), ('sink', 24), ('noisi', 24), ('plu', 23), ('safe', 23), ('activ', 23), ('al', 23), ('later', 23), ('card', 23), ('say', 23), ('cleanli', 23), ('attract', 23), ('leav', 23), ('space', 23), ('tire', 23), ('know', 23), ('everyon', 23), ('short', 23), ('quick', 23), ('outdat', 23), ('es', 23), ('est', 22), ('site', 22), ('corner', 22), ('doubl', 22), ('manhattan', 22), ('standard', 22), ('sheet', 22), ('drive', 22), ('els', 22), ('citi', 22), ('et', 21), ('request', 21), ('anyth', 21), ('worth', 21), ('far', 21), ('modern', 21), ('horribl', 21), ('stop', 21), ('luggag', 21), ('line', 21), ('star', 21), ('think', 20), ('non', 20), ('secur', 20), ('plenti', 20), ('maintain', 20), ('train', 20), ('surpris', 20), ('complaint', 20), ('warm', 20), ('man', 20), ('counter', 19), ('basic', 19), ('high', 19), ('tini', 19), ('order', 19), ('sound', 19), ('receiv', 19), ('lack', 19), ('fine', 19), ('member', 19), ('final', 19), ('furnitur', 19), ('pick', 19), ('point', 19), ('bien', 19), ('set', 19), ('spot', 19), ('care', 19), ('poor', 19), ('gym', 18), ('relax', 18), ('answer', 18), ('addit', 18), ('anyon', 18), ('condition', 18), ('light', 18), ('tell', 18), ('transport', 18), ('que', 18), ('pillow', 18), ('sehr', 18), ('zimmer', 18), ('di', 17), ('fit', 17), ('entir', 17), ('head', 17), ('bath', 17), ('nearbi', 17), ('worn', 17), ('someth', 17), ('doe', 17), ('spend', 17), ('der', 17), ('appreci', 16), ('chambr', 16), ('heat', 16), ('children', 16), ('notic', 16), ('dine', 16), ('fantast', 16), ('paper', 16), ('probabl', 16), ('rest', 16), ('middl', 16), ('slow', 16), ('hous', 16), ('cafe', 16), ('hair', 16), ('daughter', 16), ('step', 16), ('wifi', 16), ('till', 16), ('histori', 16), ('huge', 16), ('ein', 16), ('het', 16), ('main', 15), ('alreadi', 15), ('il', 15), ('whi', 15), ('choic', 15), ('onc', 15), ('complain', 15), ('flight', 15), ('tv', 15), ('mainten', 15), ('dollar', 15), ('recept', 15), ('ny', 15), ('deal', 15), ('alarm', 15), ('level', 15), ('mayb', 15), ('miss', 15), ('absolut', 15), ('mini', 15), ('son', 15), ('coupl', 15), ('gener', 14), ('advertis', 14), ('mold', 14), ('refund', 14), ('talk', 14), ('ladi', 14), ('downstair', 14), ('appear', 14), ('attend', 14), ('singl', 14), ('fix', 14), ('ac', 14), ('older', 14), ('fun', 14), ('hall', 14), ('face', 14), ('plug', 14), ('wish', 14), ('past', 14), ('fact', 14), ('instead', 14), ('eat', 14), ('style', 14), ('smaller', 14), ('ticket', 14), ('concierg', 14), ('orlando', 14), ('er', 14), ('det', 14), ('home', 14), ('een', 14), ('para', 13), ('explain', 13), ('paint', 13), ('grand', 13), ('st', 13), ('mention', 13), ('event', 13), ('isn', 13), ('abov', 13), ('didnt', 13), ('fresh', 13), ('parti', 13), ('buse', 13), ('bug', 13), ('age', 13), ('tick', 13), ('jose', 13), ('lock', 13), ('war', 13), ('klein', 13), ('curtain', 13), ('machin', 13), ('unfortun', 13), ('daili', 13), ('twice', 13), ('refriger', 13), ('woke', 13), ('effici', 13), ('garag', 13), ('difficult', 12), ('weekend', 12), ('complimentari', 12), ('leak', 12), ('ad', 12), ('photo', 12), ('self', 12), ('polit', 12), ('kind', 12), ('plan', 12), ('wife', 12), ('futur', 12), ('girl', 12), ('highli', 12), ('repair', 12), ('speak', 12), ('understand', 12), ('clerk', 12), ('surround', 12), ('turn', 12), ('dark', 12), ('knock', 12), ('start', 12), ('sign', 12), ('outlet', 12), ('nicht', 12), ('temperatur', 12), ('wir', 12), ('worst', 12), ('del', 12), ('drain', 12), ('uncomfort', 12), ('vi', 12), ('var', 12), ('excelent', 11), ('local', 11), ('adult', 11), ('smoke', 11), ('outdoor', 11), ('consid', 11), ('cerca', 11), ('weren', 11), ('fast', 11), ('ago', 11), ('hi', 11), ('maker', 11), ('msg', 11), ('spent', 11), ('normal', 11), ('ll', 11), ('neighbor', 11), ('major', 11), ('credit', 11), ('prepar', 11), ('tock', 11), ('wasnt', 11), ('hospit', 11), ('fan', 11), ('drop', 11), ('histor', 11), ('switch', 11), ('fall', 11), ('river', 11), ('closet', 11), ('aber', 11), ('zu', 11), ('otherwis', 11), ('nicer', 11), ('san', 11), ('metro', 11), ('mit', 11), ('tel', 11), ('saw', 11), ('im', 11), ('half', 11), ('og', 11), ('mean', 10), ('ceil', 10), ('una', 10), ('qualiti', 10), ('rain', 10), ('won', 10), ('cool', 10), ('mind', 10), ('realiz', 10), ('treat', 10), ('art', 10), ('unit', 10), ('crowd', 10), ('okay', 10), ('everywher', 10), ('pass', 10), ('birthday', 10), ('happen', 10), ('woman', 10), ('question', 10), ('properli', 10), ('employe', 10), ('maci', 10), ('awar', 10), ('base', 10), ('neg', 10), ('review', 10), ('situ', 10), ('dan', 10), ('hidden', 10), ('soon', 10), ('cabl', 10), ('checkout', 10), ('maid', 10), ('tile', 10), ('situat', 10), ('special', 10), ('item', 10), ('center', 10), ('live', 10), ('lazi', 10), ('chinatown', 10), ('charact', 10), ('requir', 10), ('bedroom', 10), ('cup', 10), ('habitacion', 10), ('tr', 10), ('replac', 10), ('apolog', 10), ('courtyard', 10), ('op', 10), ('te', 10), ('impress', 9), ('friend', 9), ('sent', 9), ('downsid', 9), ('choos', 9), ('si', 9), ('dinner', 9), ('touch', 9), ('firework', 9), ('balconi', 9), ('world', 9), ('compar', 9), ('hand', 9), ('slept', 9), ('nowher', 9), ('job', 9), ('toiletri', 9), ('starbuck', 9), ('ideal', 9), ('adequ', 9), ('direct', 9), ('sight', 9), ('enter', 9), ('allow', 9), ('improv', 9), ('theme', 9), ('section', 9), ('music', 9), ('shampoo', 9), ('tour', 9), ('umbrella', 9), ('electr', 9), ('taken', 9), ('entranc', 9), ('bring', 9), ('mattress', 9), ('cloth', 9), ('laundri', 9), ('je', 9), ('easili', 9), ('proxim', 9), ('chair', 9), ('hr', 9), ('boston', 9), ('concern', 9), ('hotellet', 9), ('men', 9), ('med', 9), ('guy', 9), ('ride', 9), ('cv', 9), ('polic', 9), ('meal', 9), ('aw', 9), ('wash', 9), ('multipl', 9), ('att', 9), ('och', 9), ('bare', 9), ('habitaci', 8), ('varieti', 8), ('peel', 8), ('univers', 8), ('ci', 8), ('todo', 8), ('broadway', 8), ('swim', 8), ('complet', 8), ('handicap', 8), ('wrong', 8), ('soap', 8), ('mirror', 8), ('explor', 8), ('number', 8), ('brought', 8), ('despit', 8), ('anywher', 8), ('assist', 8), ('rent', 8), ('heard', 8), ('guess', 8), ('homeless', 8), ('bell', 8), ('pull', 8), ('cancel', 8), ('stand', 8), ('shade', 8), ('unless', 8), ('somewher', 8), ('town', 8), ('liter', 8), ('stair', 8), ('design', 8), ('clearli', 8), ('poorli', 8), ('case', 8), ('seen', 8), ('menu', 8), ('deposit', 8), ('pa', 8), ('averag', 8), ('refurbish', 8), ('spoke', 8), ('import', 8), ('slide', 8), ('bottl', 8), ('hate', 8), ('zum', 8), ('longer', 8), ('delux', 8), ('immedi', 8), ('buffet', 8), ('van', 8), ('maar', 8), ('mile', 8), ('nou', 7), ('chose', 7), ('che', 7), ('ruin', 7), ('limit', 7), ('ate', 7), ('linen', 7), ('entertain', 7), ('buen', 7), ('knew', 7), ('forgot', 7), ('deco', 7), ('smile', 7), ('wake', 7), ('frustrat', 7), ('magic', 7), ('ton', 7), ('dingi', 7), ('advanc', 7), ('quickli', 7), ('word', 7), ('internet', 7), ('cart', 7), ('snack', 7), ('tax', 7), ('annoy', 7), ('walgreen', 7), ('trash', 7), ('convers', 7), ('low', 7), ('truli', 7), ('fault', 7), ('respons', 7), ('midtown', 7), ('receipt', 7), ('attent', 7), ('seriou', 7), ('clock', 7), ('interior', 7), ('met', 7), ('resolv', 7), ('beat', 7), ('intern', 7), ('environ', 7), ('common', 7), ('bigger', 7), ('confort', 7), ('flush', 7), ('afternoon', 7), ('agent', 7), ('walkabl', 7), ('sofa', 7), ('real', 7), ('function', 7), ('gross', 7), ('lage', 7), ('soft', 7), ('connect', 7), ('os', 7), ('websit', 7), ('avoid', 7), ('possibl', 7), ('schedul', 7), ('husband', 7), ('seat', 7), ('hassl', 7), ('receptionist', 7), ('onlin', 7), ('lit', 7), ('til', 7), ('jfk', 7), ('vacuum', 7), ('add', 7), ('auch', 7), ('strong', 7), ('believ', 7), ('rip', 7), ('driver', 7), ('purchas', 7), ('carri', 7), ('fabul', 7), ('rd', 7), ('delici', 7), ('mildew', 7), ('kamer', 7), ('dat', 7), ('address', 7), ('usd', 7), ('orbitz', 7), ('gorgeou', 7), ('blind', 7), ('unabl', 7), ('por', 6), ('personnel', 6), ('camera', 6), ('prima', 6), ('ma', 6), ('studio', 6), ('taxi', 6), ('buena', 6), ('stuck', 6), ('suggest', 6), ('damp', 6), ('ridicul', 6), ('bathtub', 6), ('lake', 6), ('play', 6), ('afford', 6), ('comput', 6), ('tower', 6), ('layout', 6), ('prior', 6), ('wors', 6), ('spa', 6), ('fanci', 6), ('variou', 6), ('drip', 6), ('hit', 6), ('push', 6), ('ourselv', 6), ('fairli', 6), ('sunday', 6), ('bite', 6), ('bodi', 6), ('hang', 6), ('roach', 6), ('lower', 6), ('honestli', 6), ('cheap', 6), ('pro', 6), ('encount', 6), ('continu', 6), ('share', 6), ('follow', 6), ('previou', 6), ('highway', 6), ('doesn', 6), ('catch', 6), ('roof', 6), ('ahead', 6), ('dont', 6), ('watch', 6), ('overpr', 6), ('uniqu', 6), ('storag', 6), ('fair', 6), ('discount', 6), ('vacat', 6), ('ber', 6), ('etwa', 6), ('sind', 6), ('fu', 6), ('kann', 6), ('posit', 6), ('process', 6), ('disturb', 6), ('type', 6), ('nasti', 6), ('degre', 6), ('certainli', 6), ('hold', 6), ('serv', 6), ('holiday', 6), ('nightmar', 6), ('handl', 6), ('dag', 6), ('tea', 6), ('glass', 6), ('reach', 6), ('slightli', 6), ('molto', 6), ('rush', 6), ('directli', 6), ('continent', 6), ('upset', 6), ('waren', 6), ('freundlich', 6), ('hope', 6), ('peac', 6), ('petit', 6), ('remot', 6), ('month', 6), ('wel', 6), ('som', 6), ('goe', 6), ('lyft', 6), ('remodel', 6), ('pressur', 6), ('cover', 6), ('nd', 6), ('tip', 6), ('odor', 6), ('attach', 6), ('ich', 6), ('week', 6), ('mal', 6), ('ook', 6), ('vintag', 5), ('empti', 5), ('rollaway', 5), ('emplac', 5), ('tutto', 5), ('mai', 5), ('alot', 5), ('pizza', 5), ('newer', 5), ('account', 5), ('tag', 5), ('benefit', 5), ('minor', 5), ('mislead', 5), ('asid', 5), ('realiti', 5), ('author', 5), ('confus', 5), ('equip', 5), ('purpos', 5), ('approach', 5), ('market', 5), ('relat', 5), ('road', 5), ('neat', 5), ('vista', 5), ('grab', 5), ('exterior', 5), ('quieter', 5), ('wear', 5), ('moment', 5), ('atmospher', 5), ('besid', 5), ('respect', 5), ('rel', 5), ('mostli', 5), ('english', 5), ('traffic', 5), ('loung', 5), ('biggest', 5), ('confirm', 5), ('ett', 5), ('dies', 5), ('von', 5), ('ran', 5), ('unaccept', 5), ('disgust', 5), ('recent', 5), ('exact', 5), ('pleasantli', 5), ('golf', 5), ('posizion', 5), ('compens', 5), ('promis', 5), ('appoint', 5), ('neighborhood', 5), ('superb', 5), ('note', 5), ('tourist', 5), ('game', 5), ('toll', 5), ('cook', 5), ('correct', 5), ('roll', 5), ('plastic', 5), ('voor', 5), ('restaurant', 5), ('occas', 5), ('den', 5), ('dem', 5), ('luckili', 5), ('offic', 5), ('newark', 5), ('dell', 5), ('thermostat', 5)]\n"
          ],
          "name": "stdout"
        }
      ]
    },
    {
      "cell_type": "markdown",
      "metadata": {
        "id": "Rxs_eaLjUcl4"
      },
      "source": [
        "**1.4 Classification model**\n",
        "\n",
        "Use a *Logistic Regression* model for classification with the tokenized reviews as features. Fine-tune your model to find the best value of the hyper-parameter 'C' from the follwing values: *'{0.001,0.01,0.1,1,10,100}'*. Store the final model in the variable *'bow_model'*"
      ]
    },
    {
      "cell_type": "code",
      "metadata": {
        "colab": {
          "base_uri": "https://localhost:8080/"
        },
        "id": "DtoKO7z-zUBD",
        "outputId": "92270943-254f-4b68-d0a8-bd7e3fa98605"
      },
      "source": [
        "#arbitrarily making a y_train to fit in the logistic regression to show the probability efficacy of stating which are positive and which are negative reviews\n",
        "y_train= np.random.random_sample((1705,))\n",
        "y_train"
      ],
      "execution_count": null,
      "outputs": [
        {
          "output_type": "execute_result",
          "data": {
            "text/plain": [
              "array([0.29884172, 0.42130155, 0.89644152, ..., 0.26649476, 0.17355829,\n",
              "       0.06258907])"
            ]
          },
          "metadata": {
            "tags": []
          },
          "execution_count": 21
        }
      ]
    },
    {
      "cell_type": "code",
      "metadata": {
        "id": "LSQ5ympi0UYZ"
      },
      "source": [
        "y_train=[1 if y>0.5 else 0 for y in y_train]"
      ],
      "execution_count": null,
      "outputs": []
    },
    {
      "cell_type": "code",
      "metadata": {
        "id": "K5xgNoTsUcl5",
        "colab": {
          "base_uri": "https://localhost:8080/"
        },
        "outputId": "2fa9e534-2c8a-474d-d9e0-de55391d9fa3"
      },
      "source": [
        "#logistic regression to have a look at approximate positive and negative reviews\n",
        "c=[0.001,0.01,0.1,1,10,100]\n",
        "error=np.empty(6)\n",
        "max=0\n",
        "index=0\n",
        "for i in range(6):\n",
        " logr=LogisticRegression(C=c[i])\n",
        " model=logr.fit(X_train_tokenized,y_train)\n",
        " predict_ontest=model.predict(X_train_tokenized)\n",
        " bow_model=logr.fit(X_train_tokenized,y_train)\n",
        "\n",
        "\n",
        "\n",
        "\n",
        "\n"
      ],
      "execution_count": null,
      "outputs": [
        {
          "output_type": "stream",
          "text": [
            "/usr/local/lib/python3.7/dist-packages/sklearn/linear_model/_logistic.py:940: ConvergenceWarning: lbfgs failed to converge (status=1):\n",
            "STOP: TOTAL NO. of ITERATIONS REACHED LIMIT.\n",
            "\n",
            "Increase the number of iterations (max_iter) or scale the data as shown in:\n",
            "    https://scikit-learn.org/stable/modules/preprocessing.html\n",
            "Please also refer to the documentation for alternative solver options:\n",
            "    https://scikit-learn.org/stable/modules/linear_model.html#logistic-regression\n",
            "  extra_warning_msg=_LOGISTIC_SOLVER_CONVERGENCE_MSG)\n",
            "/usr/local/lib/python3.7/dist-packages/sklearn/linear_model/_logistic.py:940: ConvergenceWarning: lbfgs failed to converge (status=1):\n",
            "STOP: TOTAL NO. of ITERATIONS REACHED LIMIT.\n",
            "\n",
            "Increase the number of iterations (max_iter) or scale the data as shown in:\n",
            "    https://scikit-learn.org/stable/modules/preprocessing.html\n",
            "Please also refer to the documentation for alternative solver options:\n",
            "    https://scikit-learn.org/stable/modules/linear_model.html#logistic-regression\n",
            "  extra_warning_msg=_LOGISTIC_SOLVER_CONVERGENCE_MSG)\n",
            "/usr/local/lib/python3.7/dist-packages/sklearn/linear_model/_logistic.py:940: ConvergenceWarning: lbfgs failed to converge (status=1):\n",
            "STOP: TOTAL NO. of ITERATIONS REACHED LIMIT.\n",
            "\n",
            "Increase the number of iterations (max_iter) or scale the data as shown in:\n",
            "    https://scikit-learn.org/stable/modules/preprocessing.html\n",
            "Please also refer to the documentation for alternative solver options:\n",
            "    https://scikit-learn.org/stable/modules/linear_model.html#logistic-regression\n",
            "  extra_warning_msg=_LOGISTIC_SOLVER_CONVERGENCE_MSG)\n",
            "/usr/local/lib/python3.7/dist-packages/sklearn/linear_model/_logistic.py:940: ConvergenceWarning: lbfgs failed to converge (status=1):\n",
            "STOP: TOTAL NO. of ITERATIONS REACHED LIMIT.\n",
            "\n",
            "Increase the number of iterations (max_iter) or scale the data as shown in:\n",
            "    https://scikit-learn.org/stable/modules/preprocessing.html\n",
            "Please also refer to the documentation for alternative solver options:\n",
            "    https://scikit-learn.org/stable/modules/linear_model.html#logistic-regression\n",
            "  extra_warning_msg=_LOGISTIC_SOLVER_CONVERGENCE_MSG)\n",
            "/usr/local/lib/python3.7/dist-packages/sklearn/linear_model/_logistic.py:940: ConvergenceWarning: lbfgs failed to converge (status=1):\n",
            "STOP: TOTAL NO. of ITERATIONS REACHED LIMIT.\n",
            "\n",
            "Increase the number of iterations (max_iter) or scale the data as shown in:\n",
            "    https://scikit-learn.org/stable/modules/preprocessing.html\n",
            "Please also refer to the documentation for alternative solver options:\n",
            "    https://scikit-learn.org/stable/modules/linear_model.html#logistic-regression\n",
            "  extra_warning_msg=_LOGISTIC_SOLVER_CONVERGENCE_MSG)\n",
            "/usr/local/lib/python3.7/dist-packages/sklearn/linear_model/_logistic.py:940: ConvergenceWarning: lbfgs failed to converge (status=1):\n",
            "STOP: TOTAL NO. of ITERATIONS REACHED LIMIT.\n",
            "\n",
            "Increase the number of iterations (max_iter) or scale the data as shown in:\n",
            "    https://scikit-learn.org/stable/modules/preprocessing.html\n",
            "Please also refer to the documentation for alternative solver options:\n",
            "    https://scikit-learn.org/stable/modules/linear_model.html#logistic-regression\n",
            "  extra_warning_msg=_LOGISTIC_SOLVER_CONVERGENCE_MSG)\n"
          ],
          "name": "stderr"
        }
      ]
    },
    {
      "cell_type": "markdown",
      "metadata": {
        "id": "D00XWWcrUcl5"
      },
      "source": [
        "**1.5 Prediction and Accuracy**\n",
        "\n",
        "Printing the accuracy of your model on both the train and test data-set. "
      ]
    },
    {
      "cell_type": "code",
      "metadata": {
        "id": "yahTNmSNUcl6",
        "colab": {
          "base_uri": "https://localhost:8080/"
        },
        "outputId": "b916601b-5ab1-4ddd-8a90-13f590d32bb4"
      },
      "source": [
        "\n",
        "print(\"training_set\", accuracy_score(y_train,bow_model.predict(X_train_tokenized)))\n",
        "\n",
        "\n",
        "\n"
      ],
      "execution_count": null,
      "outputs": [
        {
          "output_type": "stream",
          "text": [
            "training_set 0.9255131964809384\n"
          ],
          "name": "stdout"
        }
      ]
    },
    {
      "cell_type": "code",
      "metadata": {
        "id": "yzA3RohbzRof",
        "colab": {
          "base_uri": "https://localhost:8080/"
        },
        "outputId": "0dea71c1-1fb4-44a9-e3c0-979a52332d2d"
      },
      "source": [
        "print(c[index])"
      ],
      "execution_count": null,
      "outputs": [
        {
          "output_type": "stream",
          "text": [
            "0.001\n"
          ],
          "name": "stdout"
        }
      ]
    },
    {
      "cell_type": "markdown",
      "metadata": {
        "id": "lH6Q2i_jUcl7"
      },
      "source": [
        "**1.6 Confusion Matrix**\n",
        "\n",
        "Plot the confusion matrix (2x2 matrix of your actual vs predicted values) for both train and test data. Complete the function below which will help you with this. You can use the [confusion matrix](https://scikit-learn.org/stable/modules/generated/sklearn.metrics.confusion_matrix.html) from `sklearn` and the [heatmap](https://seaborn.pydata.org/generated/seaborn.heatmap.html) from the `seaborn` library to help with this. They have already been imported at the start of this notebook"
      ]
    },
    {
      "cell_type": "code",
      "metadata": {
        "id": "kLA_7SYQUcl8"
      },
      "source": [
        "# function to plot confusion matrix\n",
        "\n",
        "def plot_confusion_matrix(model, validation_features, validation_labels):\n",
        "     \n",
        "    \"\"\"\n",
        "    Function\n",
        "    --------\n",
        "    plot_confusion_matrix\n",
        "\n",
        "    Inputs\n",
        "    ------\n",
        "    model: the classification model\n",
        "    validation_features: features/variables used in the model (X)\n",
        "    validation_labels: response variable (good/bad sentiment) (y)\n",
        "\n",
        "    Notes\n",
        "    -----\n",
        "    Calling this function should plot a confusion matrix. Use heatmap from the seaborn library\n",
        "    \"\"\"\n",
        "    \n",
        "    # Predict the values from the validation dataset\n",
        "    y_pred = model.predict(validation_features)\n",
        "    \n",
        "    # Convert validation observations to one hot vectors\n",
        "    y_true = [1 if y>0.5 else 0 for y in y_pred]\n",
        "    \n",
        "    # compute the confusion matrix\n",
        "    confusion_mtx = confusion_matrix(validation_labels,y_true)\n",
        "\n",
        "    df_cm = pd.DataFrame(confusion_mtx, range(2),\n",
        "                      range(2))\n",
        "    sns.heatmap(df_cm, annot=True, annot_kws = {'size':15}, cmap = 'Blues',fmt = 'd',\n",
        "                norm=LogNorm(df_cm.values.min(),df_cm.values.max()),\n",
        "                cbar_kws={\"ticks\":[0,1,10,1e2,1e3,1e4]},vmin=0.001, vmax=10000)\n",
        "    plt.tight_layout()\n",
        "    plt.title('Confusion matrix')\n",
        "    plt.ylabel('True label')\n",
        "    plt.xlabel('Predicted label')\n",
        "    plt.ylim(2,0)\n",
        "    plt.show()\n",
        "    "
      ],
      "execution_count": null,
      "outputs": []
    },
    {
      "cell_type": "code",
      "metadata": {
        "id": "H3hsDa12Ucl9",
        "colab": {
          "base_uri": "https://localhost:8080/",
          "height": 327
        },
        "outputId": "77e89643-d12b-49d4-c100-1731c57510ed"
      },
      "source": [
        "# generating the confusion matrix plots for train data\n",
        "\n",
        "plot_confusion_matrix(bow_model, X_train_tokenized, y_train)"
      ],
      "execution_count": null,
      "outputs": [
        {
          "output_type": "display_data",
          "data": {
            "image/png": "[encoded data removed]",
            "text/plain": [
              "<Figure size 432x288 with 2 Axes>"
            ]
          },
          "metadata": {
            "tags": [],
            "needs_background": "light"
          }
        }
      ]
    },
    {
      "cell_type": "markdown",
      "metadata": {
        "id": "Xn309lhQUcl_"
      },
      "source": [
        "**1.7 Viewing and decoding predictions**\n",
        "\n",
        "Let's look at the test data for a few cases for the False Positives and False Negatives and see where we are going wrong with the Predictions"
      ]
    },
    {
      "cell_type": "code",
      "metadata": {
        "id": "LoLJoF5_UcmA"
      },
      "source": [
        "y_pred = bow_model.predict(X_train_tokenized)\n",
        "df_test = pd.DataFrame(list(zip(df['Review'], y_pred, y_train)), columns = ['X_train', 'y_pred', 'y_train'])"
      ],
      "execution_count": null,
      "outputs": []
    },
    {
      "cell_type": "markdown",
      "metadata": {
        "id": "poC-0N_nUcmA"
      },
      "source": [
        "Creating 2 subset dataframes from **df_test** : **df_fp** for all False Positives and **df_fn** for all False Negatives "
      ]
    },
    {
      "cell_type": "code",
      "metadata": {
        "id": "rcEwmVYdUcmB"
      },
      "source": [
        "# False Positives\n",
        "df_fp = df_test[(df_test['y_pred']==1) & (df_test['y_train']==0)]\n",
        "\n",
        "# False Negatives\n",
        "df_fn = df_test[(df_test['y_pred']==0) & (df_test['y_train']==1)]"
      ],
      "execution_count": null,
      "outputs": []
    },
    {
      "cell_type": "markdown",
      "metadata": {
        "id": "3ek1BfDBUcmB"
      },
      "source": [
        "Let's create a function to find out the words which contribute most to a particular review"
      ]
    },
    {
      "cell_type": "code",
      "metadata": {
        "id": "HikFrp70UcmC"
      },
      "source": [
        "# This function takes in the input of the tokenized_review and returns the important words occuring in the review \n",
        "# (according to the tokenizer vocab) along with their frequency\n",
        "\n",
        "def imp_words(tokenized_review):\n",
        "    sum_words = X_train_tokenized.sum(axis=0) \n",
        "    words_freq = [(word, sum_words[0, idx]) for word, idx in tokenizer.vocabulary_.items()]\n",
        "    words_freq = dict(sorted(words_freq, key = lambda x: x[1], reverse=True))\n",
        "\n",
        "    imp_words = []\n",
        "    for x, val in enumerate(tokenized_review):\n",
        "        if val >= 1:\n",
        "            for word, index in tokenizer.vocabulary_.items():\n",
        "                if index == x:\n",
        "                    imp_words.append((word, words_freq[word]))\n",
        "    \n",
        "    return sorted(imp_words, key = lambda x: x[1], reverse=True)"
      ],
      "execution_count": null,
      "outputs": []
    },
    {
      "cell_type": "markdown",
      "metadata": {
        "id": "_EpBJ2aQUcmC"
      },
      "source": [
        "Let's pick one of the False Positive cases from the `df_fp` dataframe."
      ]
    },
    {
      "cell_type": "code",
      "metadata": {
        "id": "CV4H3plhUcmC",
        "colab": {
          "base_uri": "https://localhost:8080/",
          "height": 35
        },
        "outputId": "46c762b4-3094-492a-e59f-e7c0593e6b71"
      },
      "source": [
        "# to see an example of a FP review\n",
        "df_fp['X_train'][64]"
      ],
      "execution_count": null,
      "outputs": [
        {
          "output_type": "execute_result",
          "data": {
            "application/vnd.google.colaboratory.intrinsic+json": {
              "type": "string"
            },
            "text/plain": [
              "'Didnt accomodate me needing two queen beds for my family.\\n  \\n  Read more\\n  Read less'"
            ]
          },
          "metadata": {
            "tags": []
          },
          "execution_count": 40
        }
      ]
    },
    {
      "cell_type": "code",
      "metadata": {
        "colab": {
          "base_uri": "https://localhost:8080/",
          "height": 35
        },
        "id": "AIGRBLHK16MJ",
        "outputId": "50bc3cdd-ed9b-4e2d-910f-395b49964423"
      },
      "source": [
        "# to see an example of a FN review\n",
        "df_fn['X_train'][24]"
      ],
      "execution_count": null,
      "outputs": [
        {
          "output_type": "execute_result",
          "data": {
            "application/vnd.google.colaboratory.intrinsic+json": {
              "type": "string"
            },
            "text/plain": [
              "'There was no complementary breakfast but it was close to everything and Disney Springs was remarkable\\n  \\n  Read more\\n  Read less'"
            ]
          },
          "metadata": {
            "tags": []
          },
          "execution_count": 41
        }
      ]
    },
    {
      "cell_type": "markdown",
      "metadata": {
        "id": "3LfWNpiB2g3b"
      },
      "source": [
        "##Exploratory Data Analysis:"
      ]
    },
    {
      "cell_type": "code",
      "metadata": {
        "id": "ihiZ5RjBXCz1"
      },
      "source": [
        "import matplotlib\n",
        "import matplotlib.pyplot as plt\n",
        "import matplotlib.mlab as mlab\n",
        "from matplotlib import cm\n",
        "%matplotlib inline"
      ],
      "execution_count": null,
      "outputs": []
    },
    {
      "cell_type": "code",
      "metadata": {
        "colab": {
          "base_uri": "https://localhost:8080/",
          "height": 281
        },
        "id": "tP1MLVD04ciO",
        "outputId": "c7af9f95-b426-4f2f-afe2-a9a1836622fd"
      },
      "source": [
        "plt.title(\"Total poitive and negative counts\")\n",
        "sns.histplot(y_train);"
      ],
      "execution_count": null,
      "outputs": [
        {
          "output_type": "display_data",
          "data": {
            "image/png": "[encoded data removed]",
            "text/plain": [
              "<Figure size 432x288 with 1 Axes>"
            ]
          },
          "metadata": {
            "tags": [],
            "needs_background": "light"
          }
        }
      ]
    },
    {
      "cell_type": "code",
      "metadata": {
        "colab": {
          "base_uri": "https://localhost:8080/",
          "height": 281
        },
        "id": "5rl2l2y-3t1t",
        "outputId": "a00e0eee-3d23-449a-d61f-1240a969cc69"
      },
      "source": [
        "plt.title(\"Total poitive and negative counts as predicted\")\n",
        "sns.histplot(y_pred);"
      ],
      "execution_count": null,
      "outputs": [
        {
          "output_type": "display_data",
          "data": {
            "image/png": "[encoded data removed]",
            "text/plain": [
              "<Figure size 432x288 with 1 Axes>"
            ]
          },
          "metadata": {
            "tags": [],
            "needs_background": "light"
          }
        }
      ]
    },
    {
      "cell_type": "code",
      "metadata": {
        "id": "qNz2-OI74yzB"
      },
      "source": [
        "counts=df.groupby(by='Location')['Review'].count()\n",
        "locations=counts.index"
      ],
      "execution_count": null,
      "outputs": []
    },
    {
      "cell_type": "code",
      "metadata": {
        "colab": {
          "base_uri": "https://localhost:8080/",
          "height": 1000
        },
        "id": "T4JgRJY46ZBN",
        "outputId": "76a4a89d-64cd-4940-dfe4-1d04a8652226"
      },
      "source": [
        "\n",
        "fig,axes=plt.subplots(figsize=(12,10))\n",
        "sns.barplot(x=locations,y=counts,ax=axes)\n",
        "axes.set_xticklabels(labels=locations,rotation='90')\n",
        "plt.title(\"Highest number of reviews from\")"
      ],
      "execution_count": null,
      "outputs": [
        {
          "output_type": "execute_result",
          "data": {
            "text/plain": [
              "Text(0.5, 1.0, 'Highest number of reviews from')"
            ]
          },
          "metadata": {
            "tags": []
          },
          "execution_count": 74
        },
        {
          "output_type": "stream",
          "text": [
            "/usr/local/lib/python3.7/dist-packages/matplotlib/backends/backend_agg.py:214: RuntimeWarning: Glyph 22823 missing from current font.\n",
            "  font.set_text(s, 0.0, flags=flags)\n",
            "/usr/local/lib/python3.7/dist-packages/matplotlib/backends/backend_agg.py:214: RuntimeWarning: Glyph 38442 missing from current font.\n",
            "  font.set_text(s, 0.0, flags=flags)\n",
            "/usr/local/lib/python3.7/dist-packages/matplotlib/backends/backend_agg.py:214: RuntimeWarning: Glyph 26481 missing from current font.\n",
            "  font.set_text(s, 0.0, flags=flags)\n",
            "/usr/local/lib/python3.7/dist-packages/matplotlib/backends/backend_agg.py:214: RuntimeWarning: Glyph 20140 missing from current font.\n",
            "  font.set_text(s, 0.0, flags=flags)\n",
            "/usr/local/lib/python3.7/dist-packages/matplotlib/backends/backend_agg.py:183: RuntimeWarning: Glyph 22823 missing from current font.\n",
            "  font.set_text(s, 0, flags=flags)\n",
            "/usr/local/lib/python3.7/dist-packages/matplotlib/backends/backend_agg.py:183: RuntimeWarning: Glyph 38442 missing from current font.\n",
            "  font.set_text(s, 0, flags=flags)\n",
            "/usr/local/lib/python3.7/dist-packages/matplotlib/backends/backend_agg.py:183: RuntimeWarning: Glyph 26481 missing from current font.\n",
            "  font.set_text(s, 0, flags=flags)\n",
            "/usr/local/lib/python3.7/dist-packages/matplotlib/backends/backend_agg.py:183: RuntimeWarning: Glyph 20140 missing from current font.\n",
            "  font.set_text(s, 0, flags=flags)\n"
          ],
          "name": "stderr"
        },
        {
          "output_type": "display_data",
          "data": {
            "image/png": "[encoded data removed]",
            "text/plain": [
              "<Figure size 864x720 with 1 Axes>"
            ]
          },
          "metadata": {
            "tags": [],
            "needs_background": "light"
          }
        }
      ]
    },
    {
      "cell_type": "code",
      "metadata": {
        "colab": {
          "base_uri": "https://localhost:8080/"
        },
        "id": "sYmpZsOx7Bjg",
        "outputId": "ba4bcfa9-c5cc-46b5-8013-56cf7055177c"
      },
      "source": [
        "len(locations)"
      ],
      "execution_count": null,
      "outputs": [
        {
          "output_type": "execute_result",
          "data": {
            "text/plain": [
              "1078"
            ]
          },
          "metadata": {
            "tags": []
          },
          "execution_count": 77
        }
      ]
    },
    {
      "cell_type": "code",
      "metadata": {
        "colab": {
          "base_uri": "https://localhost:8080/",
          "height": 528
        },
        "id": "KpcvO52s8LOJ",
        "outputId": "5aa92d67-9d05-4440-95b5-2defc2bd1f40"
      },
      "source": [
        "from IPython.display import Image \n",
        "pil_img = Image(filename='/content/highestreviews.JPG')\n",
        "display(pil_img)\n",
        "print(\"Number of reviews in different weeks\")"
      ],
      "execution_count": null,
      "outputs": [
        {
          "output_type": "display_data",
          "data": {
            "image/jpeg": "[encoded data removed]",
            "text/plain": [
              "<IPython.core.display.Image object>"
            ]
          },
          "metadata": {
            "tags": []
          }
        },
        {
          "output_type": "stream",
          "text": [
            "Number of reviews in different weeks\n"
          ],
          "name": "stdout"
        }
      ]
    },
    {
      "cell_type": "code",
      "metadata": {
        "id": "Z0OofIgm81v7"
      },
      "source": [
        ""
      ],
      "execution_count": null,
      "outputs": []
    }
  ]
}